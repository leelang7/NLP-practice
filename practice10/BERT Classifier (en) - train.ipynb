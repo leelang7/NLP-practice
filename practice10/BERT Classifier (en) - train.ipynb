{
 "cells": [
  {
   "cell_type": "markdown",
   "metadata": {
    "id": "1w8ew706HC5C"
   },
   "source": [
    "# 트위터 감정 분석\n",
    "\n",
    "이번 실습에서는 트위터 메시지(트윗)의 감정을 파악하는 BERT Classifier를 만들 예정입니다.\n",
    "\n",
    "감정은 긍정, 부정, 중립의 세 가지 유형으로 구분됩니다.\n",
    "\n",
    "이를 기준으로 트윗에 담긴 감정을 표시하고, 이 데이터를 사용하여 주어진 트윗의 감정을 분석하는 classifier를 만들겠습니다.\n",
    "\n",
    "이전 실습에서는 같은 데이터를 사용하여 RNN을 이용하여 classifier를 만들었지만, 이번 실습에서는 BERT를 활용하여 만들 예정입니다."
   ]
  },
  {
   "cell_type": "markdown",
   "metadata": {
    "id": "Qjj7XEd3BuDy"
   },
   "source": [
    "## 데이터 읽기 \n",
    "\n",
    "데이터 출처: https://www.kaggle.com/vivekrathi055/sentiment-analysis-on-financial-tweets"
   ]
  },
  {
   "cell_type": "markdown",
   "metadata": {
    "id": "S03tCoPkG6vr"
   },
   "source": [
    "`train.csv` 파일을 열어보면 한 라인에 두 개의 열이 있습니다. \n",
    "첫 번째 열에는 트위터 메시지인 트윗이 있고 오른쪽에는 태깅된 감정이 있습니다.\n",
    "\n",
    "- 0: 부정\n",
    "- 1: 중립\n",
    "- 2: 긍정\n",
    "\n",
    "이렇게 세 가지의 감정이 태깅된 것을 알 수 있습니다."
   ]
  },
  {
   "cell_type": "code",
   "execution_count": null,
   "metadata": {
    "colab": {
     "base_uri": "https://localhost:8080/"
    },
    "executionInfo": {
     "elapsed": 3656,
     "status": "ok",
     "timestamp": 1616150977898,
     "user": {
      "displayName": "JinYeong Bak",
      "photoUrl": "https://lh3.googleusercontent.com/a-/AOh14GgVCrvkSAzqNeDqibR0GWprGHgMt57Ajz7Rg0LmKg=s64",
      "userId": "11443215743804348910"
     },
     "user_tz": -540
    },
    "id": "xumuS251GFJO",
    "outputId": "d4a36d15-d7fc-4772-b78f-e3375cc9e0df"
   },
   "outputs": [],
   "source": [
    "with open(\"train.csv\") as csv_f:\n",
    "    head = \"\\n\".join([next(csv_f) for x in range(5)])\n",
    "print(head)"
   ]
  },
  {
   "cell_type": "markdown",
   "metadata": {
    "id": "ZvdTJtt1CcRU"
   },
   "source": [
    "## 라이브러리 로드\n",
    "\n",
    "코드 실행에 필요한 라이브러리를 설치하고 로드합니다.\n",
    "\n",
    "이번 실습에서 사용한 라이브러리는 [huggingface](https://huggingface.co)의 [transformers](https://github.com/huggingface/transformers) 입니다."
   ]
  },
  {
   "cell_type": "code",
   "execution_count": null,
   "metadata": {
    "executionInfo": {
     "elapsed": 15952,
     "status": "ok",
     "timestamp": 1616150990199,
     "user": {
      "displayName": "JinYeong Bak",
      "photoUrl": "https://lh3.googleusercontent.com/a-/AOh14GgVCrvkSAzqNeDqibR0GWprGHgMt57Ajz7Rg0LmKg=s64",
      "userId": "11443215743804348910"
     },
     "user_tz": -540
    },
    "id": "RgnaF87tCfhj"
   },
   "outputs": [],
   "source": [
    "import matplotlib.pyplot as plt\n",
    "import torch\n",
    "import torch.nn as nn\n",
    "import torch.optim\n",
    "from sklearn.metrics import classification_report\n",
    "from transformers import BertModel, BertTokenizer, get_linear_schedule_with_warmup, AdamW\n",
    "from torch.utils.data import Dataset, DataLoader\n",
    "import codecs\n",
    "import csv\n",
    "import os\n",
    "from IPython.display import Image"
   ]
  },
  {
   "cell_type": "markdown",
   "metadata": {
    "id": "IlUeGHEJPZeV"
   },
   "source": [
    "## 모델 클래스 정의\n",
    "\n",
    "파이토치(PyTorch)를 사용하여 딥러닝 모델의 forward path(순전파)를 정의할 때, 일반적으로 새로운 클래스를 만들기 위해 `nn.Module` 클래스를 상속받아야 합니다.\n",
    "\n",
    "또한, forward path를 정의하기 위해서는 `forward` 함수를 반드시 정의해야 합니다. `forward` 함수는 모델이 데이터를 입력받아 순전파를 수행하는 메서드입니다.\n",
    "\n",
    "이번 실습에서는 BERT를 이용한 classifier를 구성하는 것이므로, 적절한 클래스를 작성하였습니다. 이 클래스는 BERT를 활용하여 주어진 트윗의 감정을 분석하는데 적합합니다."
   ]
  },
  {
   "cell_type": "code",
   "execution_count": null,
   "metadata": {
    "executionInfo": {
     "elapsed": 15951,
     "status": "ok",
     "timestamp": 1616150990199,
     "user": {
      "displayName": "JinYeong Bak",
      "photoUrl": "https://lh3.googleusercontent.com/a-/AOh14GgVCrvkSAzqNeDqibR0GWprGHgMt57Ajz7Rg0LmKg=s64",
      "userId": "11443215743804348910"
     },
     "user_tz": -540
    },
    "id": "pia7XebEPbS1"
   },
   "outputs": [],
   "source": [
    "class BERTClassifier(nn.Module):\n",
    "    # BERT Classifier 클래스를 정의합니다. Pytorch는 모델을 구성할 때 반드시 nn.Module 클래스를 상속받은 후 이를 토대로 만듭니다.\n",
    "    def __init__(self, bert_model='bert-base-uncased'):\n",
    "        # 클래스의 첫 시작인 함수입니다. 여기서 모델에 필요한 여러 변수들을 정의합니다.\n",
    "        super(BERTClassifier, self).__init__()\n",
    "        # bert 모델을 불러옵니다. bert 모델은 기학습이 된 것이기에 불러오는 것입니다.\n",
    "        self.bert = BertModel.from_pretrained(bert_model, return_dict=False)\n",
    "        self.drop = nn.Dropout(p=0.5)\n",
    "        hidden_size = self.bert.config.hidden_size\n",
    "        self.fc = nn.Linear(self.bert.config.hidden_size, 3)\n",
    "\n",
    "    def forward(self, input_ids, attention_mask):\n",
    "        # 모델의 forward feed를 수행하는 함수입니다.\n",
    "        # input_ids와 attention_mask 변수를 입력으로 받아 신경망 모델을 forward 방향으로 탈 때 그 출력을 반환합니다.\n",
    "        # 단어 id => bert => Dense의 구조입니다.\n",
    "        _, pooled_output = self.bert(input_ids=input_ids, attention_mask=attention_mask)\n",
    "\n",
    "        text_fea = self.drop(pooled_output)\n",
    "\n",
    "        # model의 마지막에 classification을 위해 dense layer를 추가합니다.\n",
    "        text_out = self.fc(text_fea) # Problem 1\n",
    "\n",
    "        return text_out"
   ]
  },
  {
   "cell_type": "markdown",
   "metadata": {
    "id": "f0C0fY54ZDmU"
   },
   "source": [
    "## 데이터 클래스 정의\n",
    "\n",
    "이번 실습에서는 데이터를 불러올 때 BPE로 토큰을 만들 수 있도록 데이터 클래스와 이를 만드는 함수 `make_data_loader`를 정의하겠습니다."
   ]
  },
  {
   "cell_type": "code",
   "execution_count": null,
   "metadata": {
    "executionInfo": {
     "elapsed": 15950,
     "status": "ok",
     "timestamp": 1616150990199,
     "user": {
      "displayName": "JinYeong Bak",
      "photoUrl": "https://lh3.googleusercontent.com/a-/AOh14GgVCrvkSAzqNeDqibR0GWprGHgMt57Ajz7Rg0LmKg=s64",
      "userId": "11443215743804348910"
     },
     "user_tz": -540
    },
    "id": "jEF1pQoYZRqA"
   },
   "outputs": [],
   "source": [
    "class BERTDataset(Dataset):\n",
    "    # pytorch로 데이터를 불러오기 위해서 Dataset 클래스를 상속받아 새로운 클래스를 만듭니다.\n",
    "    def __init__(self, tweets, labels, tokenizer, max_len):\n",
    "        # 데이터를 파일로부터 읽어 이를 전달 받습니다.\n",
    "        self.labels = labels\n",
    "        self.tokenizer = tokenizer\n",
    "        self.max_len = max_len\n",
    "        self.tweets_encodings = list()\n",
    "\n",
    "        # 하나의 트윗을 BPE tokenizer를 이용하여 토큰을 만듭니다.\n",
    "        for one_tweet in tweets:\n",
    "            encoding = self.tokenizer.encode_plus(one_tweet, add_special_tokens=True, max_length=self.max_len,\n",
    "                                              return_token_type_ids=False, padding='max_length',\n",
    "                                              return_attention_mask=True, return_tensors='pt', truncation=True)\n",
    "            input_ids = encoding['input_ids'].flatten()\n",
    "            attention_mask = encoding['attention_mask'].flatten()\n",
    "            self.tweets_encodings.append((input_ids, attention_mask))\n",
    "\n",
    "    def __getitem__(self, idx):\n",
    "        # 이 클래스에서 하나의 데이터를 뽑을 때 반환하는 값들을 정의합니다.\n",
    "        encoding = self.tweets_encodings[idx]\n",
    "        label = self.labels[idx]\n",
    "        input_ids = encoding[0]\n",
    "        attention_mask = encoding[1]\n",
    "        out_label = torch.tensor(int(label), dtype=torch.long)\n",
    "\n",
    "        # idx번째 데이터에 적합한 input_ids, attention_mask, out_label을 반환합니다.\n",
    "        # 이를 통해 loader 함수에서 하나씩 데이터를 내놓고 batch 크기만큼 모을 수 있습니다.\n",
    "        return input_ids, attention_mask, out_label\n",
    "\n",
    "    def __len__(self):\n",
    "        return len(self.labels)"
   ]
  },
  {
   "cell_type": "code",
   "execution_count": null,
   "metadata": {
    "executionInfo": {
     "elapsed": 15950,
     "status": "ok",
     "timestamp": 1616150990200,
     "user": {
      "displayName": "JinYeong Bak",
      "photoUrl": "https://lh3.googleusercontent.com/a-/AOh14GgVCrvkSAzqNeDqibR0GWprGHgMt57Ajz7Rg0LmKg=s64",
      "userId": "11443215743804348910"
     },
     "user_tz": -540
    },
    "id": "nATcgR-UZV-I"
   },
   "outputs": [],
   "source": [
    "def make_data_loader(dataset_path, tokenizer, max_len, batch_size):\n",
    "    # DataLoader를 만들어서 데이터를 불러오도록 합니다.\n",
    "    tweets = list()\n",
    "    labels = list()\n",
    "    # 데이터 파일의 내용을 불러와 tweets와 labels 리스트에 넣습니다.\n",
    "    with codecs.open(dataset_path, \"r\", \"utf-8\") as csv_f:\n",
    "        csv_reader = csv.reader(csv_f)\n",
    "        for one_row in csv_reader:\n",
    "            tweets.append(one_row[0])\n",
    "            labels.append(one_row[-1])\n",
    "    \n",
    "    # 앞서 정의한 BERTDataset 클래스에 해당 데이터를 넣습니다.\n",
    "    ds = BERTDataset(tweets, labels, tokenizer, max_len)\n",
    "\n",
    "    # 만들어진 BERTDataset 클래스를 DataLoader에 넣고 batch 크기를 전달해줍니다.\n",
    "    return DataLoader(ds, batch_size=batch_size, num_workers=4)"
   ]
  },
  {
   "cell_type": "markdown",
   "metadata": {
    "id": "4ZhhZRkJChKT"
   },
   "source": [
    "## train 함수\n",
    "\n",
    "해당 함수에서는 정의된 `model` 클래스의 인스턴스를 가져와서 이를 train data로 학습시킵니다. 그리고 validation data로 학습 중간에 성능을 평가합니다."
   ]
  },
  {
   "cell_type": "code",
   "execution_count": null,
   "metadata": {
    "executionInfo": {
     "elapsed": 15949,
     "status": "ok",
     "timestamp": 1616150990200,
     "user": {
      "displayName": "JinYeong Bak",
      "photoUrl": "https://lh3.googleusercontent.com/a-/AOh14GgVCrvkSAzqNeDqibR0GWprGHgMt57Ajz7Rg0LmKg=s64",
      "userId": "11443215743804348910"
     },
     "user_tz": -540
    },
    "id": "hYucrg5wCjyA"
   },
   "outputs": [],
   "source": [
    "def train(model, device, optimizer, train_loader, valid_loader, output_file_path, num_epochs):\n",
    "    # 학습에 필요한 변수들을 기본적으로 정의합니다.\n",
    "    running_loss = 0.0\n",
    "    global_step = 0\n",
    "    train_loss_list = list()\n",
    "    valid_loss_list = list()\n",
    "    global_steps_list = list()\n",
    "    loss_fn = nn.CrossEntropyLoss().to(device)\n",
    "    best_valid_loss = float(\"Inf\")\n",
    "    eval_every = 50\n",
    "    total_steps = len(train_loader) * num_epochs\n",
    "    scheduler = get_linear_schedule_with_warmup(optimizer, num_warmup_steps=0,\n",
    "                                                num_training_steps=total_steps)\n",
    "    \n",
    "    # model에게 학습이 진행됨을 알려줍니다.\n",
    "    model.train()\n",
    "    # num_epochs만큼 epoch을 반복합니다.\n",
    "    for epoch in range(num_epochs):\n",
    "        # train_loader를 읽으면 정해진 데이터를 읽어옵니다.\n",
    "        for input_ids, attention_mask, labels in train_loader:\n",
    "            # 데이터를 GPU로 옮깁니다.\n",
    "            input_ids = input_ids.to(device)\n",
    "            attention_mask = attention_mask.to(device)\n",
    "            labels = labels.to(device)\n",
    "\n",
    "            # model을 함수처럼 호출하면 model에서 정의한 forward 함수가 실행됩니다.\n",
    "            # 즉, 데이터를 모델에 집어넣어 forward방향으로 흐른 후 그 결과를 받습니다.\n",
    "            output = model(input_ids, attention_mask)\n",
    "\n",
    "            # forward 결과와 실제 데이터 결과의 차이를 정의한 loss 함수로 구합니다.\n",
    "            loss = loss_fn(output, labels)\n",
    "\n",
    "            # 최적화 수행\n",
    "            optimizer.zero_grad()\n",
    "            loss.backward()\n",
    "            optimizer.step()\n",
    "            scheduler.step()\n",
    "\n",
    "            running_loss += loss.item()\n",
    "            global_step += 1\n",
    "\n",
    "            # 50번에 한 번으로 validation 데이터를 이용하여 성능을 검증합니다.\n",
    "            if global_step % eval_every == 0:\n",
    "                average_train_loss, average_valid_loss = evaluate(model, device, valid_loader, loss_fn,\n",
    "                                                                  running_loss, eval_every)\n",
    "                \n",
    "                # 검증이 끝난 후 다시 모델에게 학습을 준비시킵니다.\n",
    "                running_loss = 0.0\n",
    "                model.train()\n",
    "\n",
    "                # 결과 출력\n",
    "                print('Epoch {}, Step {}, Train Loss: {:.4f}, Valid Loss: {:.4f}'\n",
    "                      .format(epoch + 1, global_step, average_train_loss, average_valid_loss))\n",
    "\n",
    "                # 결과 저장\n",
    "                train_loss_list.append(average_train_loss)\n",
    "                valid_loss_list.append(average_valid_loss)\n",
    "                global_steps_list.append(global_step)\n",
    "\n",
    "                # 만약 기존 것보다 성능이 높게 나왔다면 현재 모델 상태를 저장합니다.\n",
    "                if best_valid_loss > average_valid_loss:\n",
    "                    best_valid_loss = average_valid_loss\n",
    "                    save_checkpoint(output_file_path + '/model.pt', model, optimizer, best_valid_loss)\n",
    "                    save_metrics(output_file_path + '/metrics.pt', train_loss_list, valid_loss_list, global_steps_list)\n",
    "\n",
    "    # 결과를 저장합니다.\n",
    "    save_metrics(output_file_path + '/metrics.pt', train_loss_list, valid_loss_list, global_steps_list)"
   ]
  },
  {
   "cell_type": "markdown",
   "metadata": {
    "id": "Zz8Q3e9iQroL"
   },
   "source": [
    "## evaluate 함수\n",
    "\n",
    "해당 함수에서는 validation data를 이용하여 학습된 `model`을 평가합니다."
   ]
  },
  {
   "cell_type": "code",
   "execution_count": null,
   "metadata": {
    "executionInfo": {
     "elapsed": 15947,
     "status": "ok",
     "timestamp": 1616150990200,
     "user": {
      "displayName": "JinYeong Bak",
      "photoUrl": "https://lh3.googleusercontent.com/a-/AOh14GgVCrvkSAzqNeDqibR0GWprGHgMt57Ajz7Rg0LmKg=s64",
      "userId": "11443215743804348910"
     },
     "user_tz": -540
    },
    "id": "5PcidZwmQuFu"
   },
   "outputs": [],
   "source": [
    "def evaluate(model, device, valid_loader, loss_fn, running_loss, eval_every):\n",
    "    # 학습 중 모델을 평가합니다.\n",
    "    # 모델에게 학습이 아닌 평가를 할 것이라고 알립니다.\n",
    "    model.eval()\n",
    "    valid_running_loss = 0.\n",
    "\n",
    "    # 학습이 아니기에 최적화를 하지 않는다는 환경을 설정합니다.\n",
    "    with torch.no_grad():\n",
    "        # validation 데이터를 읽습니다.\n",
    "        for input_ids, attention_mask, labels in valid_loader:\n",
    "            input_ids = input_ids.to(device)\n",
    "            attention_mask = attention_mask.to(device)\n",
    "            labels = labels.to(device)\n",
    "\n",
    "            # model을 함수처럼 호출하면 model에서 정의한 forward 함수가 실행됩니다.\n",
    "            # 즉, 데이터를 모델에 집어넣어 forward방향으로 흐른 후 그 결과를 받습니다.\n",
    "            output = model(input_ids, attention_mask)\n",
    "\n",
    "            # validation 데이터의 loss, 즉 모델의 출력과 실제 데이터의 차이를 구합니다.\n",
    "            loss = loss_fn(output, labels)\n",
    "            valid_running_loss += loss.item()\n",
    "\n",
    "    # 평균 loss를 계산합니다.\n",
    "    average_train_loss = running_loss / eval_every\n",
    "    average_valid_loss = valid_running_loss / len(valid_loader)\n",
    "\n",
    "    return average_train_loss, average_valid_loss"
   ]
  },
  {
   "cell_type": "markdown",
   "metadata": {
    "id": "ofHYy5NsCpwY"
   },
   "source": [
    "## 그래프 시각화 함수\n",
    "\n",
    "epoch에 따른 train loss와 validation loss 그래프를 그립니다."
   ]
  },
  {
   "cell_type": "code",
   "execution_count": null,
   "metadata": {
    "executionInfo": {
     "elapsed": 15946,
     "status": "ok",
     "timestamp": 1616150990201,
     "user": {
      "displayName": "JinYeong Bak",
      "photoUrl": "https://lh3.googleusercontent.com/a-/AOh14GgVCrvkSAzqNeDqibR0GWprGHgMt57Ajz7Rg0LmKg=s64",
      "userId": "11443215743804348910"
     },
     "user_tz": -540
    },
    "id": "uTXXPgoLCpiC"
   },
   "outputs": [],
   "source": [
    "def draw_graph(output_file_path, device):\n",
    "    train_loss_list, valid_loss_list, global_steps_list = load_metrics(output_file_path + '/metrics.pt', device)\n",
    "    plt.plot(global_steps_list, train_loss_list, label='Train')\n",
    "    plt.plot(global_steps_list, valid_loss_list, label='Valid')\n",
    "    plt.xlabel('Global Steps')\n",
    "    plt.ylabel('Loss')\n",
    "    plt.legend()\n",
    "    plt.savefig(\"train_valid_loss.png\", bbox_inches='tight')\n",
    "\n",
    "    Image('train_valid_loss.png')"
   ]
  },
  {
   "cell_type": "markdown",
   "metadata": {
    "id": "Ighl1h68UDCB"
   },
   "source": [
    "## 모델 및 기록 저장 불러오기"
   ]
  },
  {
   "cell_type": "code",
   "execution_count": null,
   "metadata": {
    "executionInfo": {
     "elapsed": 15945,
     "status": "ok",
     "timestamp": 1616150990201,
     "user": {
      "displayName": "JinYeong Bak",
      "photoUrl": "https://lh3.googleusercontent.com/a-/AOh14GgVCrvkSAzqNeDqibR0GWprGHgMt57Ajz7Rg0LmKg=s64",
      "userId": "11443215743804348910"
     },
     "user_tz": -540
    },
    "id": "wcpFZHyVUFr8"
   },
   "outputs": [],
   "source": [
    "def save_checkpoint(save_path, model, optimizer, valid_loss):\n",
    "    state_dict = {'model_state_dict': model.state_dict(),\n",
    "                  'optimizer_state_dict': optimizer.state_dict(),\n",
    "                  'valid_loss': valid_loss}\n",
    "\n",
    "    torch.save(state_dict, save_path)\n",
    "\n",
    "\n",
    "def load_checkpoint(load_path, model, optimizer, device):\n",
    "    state_dict = torch.load(load_path, map_location=device)\n",
    "\n",
    "    model.load_state_dict(state_dict['model_state_dict'])\n",
    "    optimizer.load_state_dict(state_dict['optimizer_state_dict'])\n",
    "\n",
    "    return state_dict['valid_loss']\n",
    "\n",
    "\n",
    "def save_metrics(save_path, train_loss_list, valid_loss_list, global_steps_list):\n",
    "    state_dict = {'train_loss_list': train_loss_list,\n",
    "                  'valid_loss_list': valid_loss_list,\n",
    "                  'global_steps_list': global_steps_list}\n",
    "\n",
    "    torch.save(state_dict, save_path)\n",
    "\n",
    "\n",
    "def load_metrics(load_path, device):\n",
    "    state_dict = torch.load(load_path, map_location=device)\n",
    "\n",
    "    return state_dict['train_loss_list'], state_dict['valid_loss_list'], state_dict['global_steps_list']"
   ]
  },
  {
   "cell_type": "markdown",
   "metadata": {
    "id": "ra8NgFTOCy-p"
   },
   "source": [
    "## 데이터 불러오기\n",
    "\n",
    "데이터를 불러올 때 우리는 Bert Tokenizer를 사용합니다."
   ]
  },
  {
   "cell_type": "code",
   "execution_count": null,
   "metadata": {
    "colab": {
     "base_uri": "https://localhost:8080/",
     "height": 220,
     "referenced_widgets": [
      "e49f2331b9d2402bbf80bc8deee8fada",
      "1bfe5b4ea723488f8bf84a69093067b6",
      "a1e5aaf6455b4f2e8dd916c7165a605f",
      "78990bf909a64d5fb10f283b805290f2",
      "e0d563e263f344daaf17aa18ba08c1c0",
      "89e409b7f9f04faab5212439565c8038",
      "294133e5c3b74bbbbf9498fed1800545",
      "c2d400b3ebcc41fabec85f8378d3dcfa",
      "ad7ba85599594e1f9323d7ddf783a1eb",
      "dfdc74c2688c460c8ac0081c946cd1a5",
      "450bad0438f94e639c46d545689834b8",
      "8f10765912be4d2a8477e034c05aae1e",
      "317bd766c80343dc8938165e12330cf7",
      "47d49110fb46416bb0c91deadf71c6bb",
      "a90bff81bfa24b66bb24f4612eacdd07",
      "2299cbc90b7048f0ba91897586a37135",
      "78404f90cc4f4c359468edcc95784757",
      "8de6700bfd36422685acc6ecc617e886",
      "99413ae074fb4bd09167261cbe3bafea",
      "c67c05367c2043c7a2a7a89cb353b905",
      "d1254360098644d29badd2ca099c4edc",
      "a42627f69437427aa788ccd5861f2a35",
      "cdb3aaa2654a443286e8ae1f1f92d1a4",
      "6dcf07ff63ee4f09ae9a8e7fbd699401"
     ]
    },
    "executionInfo": {
     "elapsed": 18413,
     "status": "ok",
     "timestamp": 1616150992672,
     "user": {
      "displayName": "JinYeong Bak",
      "photoUrl": "https://lh3.googleusercontent.com/a-/AOh14GgVCrvkSAzqNeDqibR0GWprGHgMt57Ajz7Rg0LmKg=s64",
      "userId": "11443215743804348910"
     },
     "user_tz": -540
    },
    "id": "9Jy8JWuPCyvC",
    "outputId": "c221d52e-0ddb-42cc-9ff0-b5ebd9904500"
   },
   "outputs": [],
   "source": [
    "# 데이터의 기본 형태에 대한 정보입니다.\n",
    "output_file_path=\"./model/\"\n",
    "os.makedirs(output_file_path, exist_ok=True)\n",
    "device = torch.device('cuda:0' if torch.cuda.is_available() else 'cpu')\n",
    "\n",
    "root_path = \"./\"\n",
    "train_file_path = root_path + \"train.csv\"\n",
    "valid_file_path = root_path + \"valid.csv\"\n",
    "\n",
    "max_len = 100\n",
    "batch_size = 32\n",
    "\n",
    "tokenizer = BertTokenizer.from_pretrained('bert-base-uncased', do_lower_case=True)\n",
    "\n",
    "# train, validation 데이터 csv 파일을 읽어옵니다.\n",
    "train_loader = make_data_loader(train_file_path, tokenizer, max_len, batch_size)\n",
    "valid_loader = make_data_loader(valid_file_path, tokenizer, max_len, batch_size)"
   ]
  },
  {
   "cell_type": "markdown",
   "metadata": {
    "id": "RNlcKZKoDDEq"
   },
   "source": [
    "## 모델 학습\n",
    "\n",
    "`train` 함수를 이용하여 train data를 통해 모델 학습을 진행하세요.\n",
    "**GPU를 사용할 수 있는 경우, 학습 시간은 약 10분 정도 소요됩니다.**"
   ]
  },
  {
   "cell_type": "code",
   "execution_count": null,
   "metadata": {
    "colab": {
     "base_uri": "https://localhost:8080/",
     "height": 275,
     "referenced_widgets": [
      "bb1426767484493894eb585235e4fcf9",
      "5db4e4b77a8644398812d14acb95d93d",
      "7b010f933bef4e51a94cc9b1736f53fb",
      "f7ad0f0dea434363827ef38ffcf8dab9",
      "02d67eb22afc40d58b45b47fef802041",
      "6daab36f9b004282ba5b0ed39ffbeae8",
      "b94a272fe11f4a3797c3ffc50e34ee2b",
      "b9e18880d9e5468cb70dd4987f21be46",
      "e857bcb3f718495aac881f92c29006d7",
      "e1663ae22e9e4a20ae0d5f75ba8e3471",
      "6ac59b2e9fe04be29c0b720b6c156c91",
      "2c1fbbdd49f94f52b61ae7afb4b11534",
      "17c8cf29b5764ba392fb6a6fb4d98e30",
      "7b5f52eafe0d4676969885a3a2bfe6f4",
      "fa47728fdb0e4420843f31721bcb35b9",
      "63a1cfb92c59497f98b5dba9efd98d16"
     ]
    },
    "executionInfo": {
     "elapsed": 269981,
     "status": "ok",
     "timestamp": 1616151244243,
     "user": {
      "displayName": "JinYeong Bak",
      "photoUrl": "https://lh3.googleusercontent.com/a-/AOh14GgVCrvkSAzqNeDqibR0GWprGHgMt57Ajz7Rg0LmKg=s64",
      "userId": "11443215743804348910"
     },
     "user_tz": -540
    },
    "id": "BpjT1fyTDF15",
    "outputId": "86c35f5c-3909-4a00-ca9a-23c888e71430"
   },
   "outputs": [],
   "source": [
    "# 앞서 정의한 BERTClassifier 클래스의 인스턴스를 만듭니다.\n",
    "model = BERTClassifier().to(device)\n",
    "\n",
    "# AdamW optimizier를 사용합니다.\n",
    "optimizer = AdamW(model.parameters(), lr=2e-5, correct_bias=False)\n",
    "\n",
    "# 약 10분 정도 소요됩니다.\n",
    "train(model, device, optimizer, train_loader, valid_loader, output_file_path, 5)  "
   ]
  },
  {
   "cell_type": "markdown",
   "metadata": {
    "id": "V-wJEf05DJ8Q"
   },
   "source": [
    "## 결과 출력\n",
    "\n",
    "학습을 수행하였으면 결과를 출력합니다."
   ]
  },
  {
   "cell_type": "code",
   "execution_count": null,
   "metadata": {
    "colab": {
     "base_uri": "https://localhost:8080/",
     "height": 0
    },
    "executionInfo": {
     "elapsed": 270346,
     "status": "ok",
     "timestamp": 1616151244611,
     "user": {
      "displayName": "JinYeong Bak",
      "photoUrl": "https://lh3.googleusercontent.com/a-/AOh14GgVCrvkSAzqNeDqibR0GWprGHgMt57Ajz7Rg0LmKg=s64",
      "userId": "11443215743804348910"
     },
     "user_tz": -540
    },
    "id": "RFiSShyMDLOX",
    "outputId": "760b5a30-26dc-4e53-f367-ac9f390b3c8f"
   },
   "outputs": [],
   "source": [
    "draw_graph(output_file_path, device)"
   ]
  }
 ],
 "metadata": {
  "accelerator": "GPU",
  "colab": {
   "authorship_tag": "ABX9TyMhfbD2rqakSqXJakaVWGyL",
   "collapsed_sections": [],
   "name": "BERT Classifier (en) - train - Solution",
   "provenance": [
    {
     "file_id": "1LU3bk03EYWf00y_Ag-WcoBbqD0P4JHHi",
     "timestamp": 1612862379709
    }
   ]
  },
  "kernelspec": {
   "display_name": "Python 3",
   "language": "python",
   "name": "python3"
  },
  "language_info": {
   "codemirror_mode": {
    "name": "ipython",
    "version": 3
   },
   "file_extension": ".py",
   "mimetype": "text/x-python",
   "name": "python",
   "nbconvert_exporter": "python",
   "pygments_lexer": "ipython3",
   "version": "3.8.6"
  },
  "widgets": {
   "application/vnd.jupyter.widget-state+json": {
    "02d67eb22afc40d58b45b47fef802041": {
     "model_module": "@jupyter-widgets/controls",
     "model_name": "ProgressStyleModel",
     "state": {
      "_model_module": "@jupyter-widgets/controls",
      "_model_module_version": "1.5.0",
      "_model_name": "ProgressStyleModel",
      "_view_count": null,
      "_view_module": "@jupyter-widgets/base",
      "_view_module_version": "1.2.0",
      "_view_name": "StyleView",
      "bar_color": null,
      "description_width": "initial"
     }
    },
    "17c8cf29b5764ba392fb6a6fb4d98e30": {
     "model_module": "@jupyter-widgets/controls",
     "model_name": "ProgressStyleModel",
     "state": {
      "_model_module": "@jupyter-widgets/controls",
      "_model_module_version": "1.5.0",
      "_model_name": "ProgressStyleModel",
      "_view_count": null,
      "_view_module": "@jupyter-widgets/base",
      "_view_module_version": "1.2.0",
      "_view_name": "StyleView",
      "bar_color": null,
      "description_width": "initial"
     }
    },
    "1bfe5b4ea723488f8bf84a69093067b6": {
     "model_module": "@jupyter-widgets/base",
     "model_name": "LayoutModel",
     "state": {
      "_model_module": "@jupyter-widgets/base",
      "_model_module_version": "1.2.0",
      "_model_name": "LayoutModel",
      "_view_count": null,
      "_view_module": "@jupyter-widgets/base",
      "_view_module_version": "1.2.0",
      "_view_name": "LayoutView",
      "align_content": null,
      "align_items": null,
      "align_self": null,
      "border": null,
      "bottom": null,
      "display": null,
      "flex": null,
      "flex_flow": null,
      "grid_area": null,
      "grid_auto_columns": null,
      "grid_auto_flow": null,
      "grid_auto_rows": null,
      "grid_column": null,
      "grid_gap": null,
      "grid_row": null,
      "grid_template_areas": null,
      "grid_template_columns": null,
      "grid_template_rows": null,
      "height": null,
      "justify_content": null,
      "justify_items": null,
      "left": null,
      "margin": null,
      "max_height": null,
      "max_width": null,
      "min_height": null,
      "min_width": null,
      "object_fit": null,
      "object_position": null,
      "order": null,
      "overflow": null,
      "overflow_x": null,
      "overflow_y": null,
      "padding": null,
      "right": null,
      "top": null,
      "visibility": null,
      "width": null
     }
    },
    "2299cbc90b7048f0ba91897586a37135": {
     "model_module": "@jupyter-widgets/base",
     "model_name": "LayoutModel",
     "state": {
      "_model_module": "@jupyter-widgets/base",
      "_model_module_version": "1.2.0",
      "_model_name": "LayoutModel",
      "_view_count": null,
      "_view_module": "@jupyter-widgets/base",
      "_view_module_version": "1.2.0",
      "_view_name": "LayoutView",
      "align_content": null,
      "align_items": null,
      "align_self": null,
      "border": null,
      "bottom": null,
      "display": null,
      "flex": null,
      "flex_flow": null,
      "grid_area": null,
      "grid_auto_columns": null,
      "grid_auto_flow": null,
      "grid_auto_rows": null,
      "grid_column": null,
      "grid_gap": null,
      "grid_row": null,
      "grid_template_areas": null,
      "grid_template_columns": null,
      "grid_template_rows": null,
      "height": null,
      "justify_content": null,
      "justify_items": null,
      "left": null,
      "margin": null,
      "max_height": null,
      "max_width": null,
      "min_height": null,
      "min_width": null,
      "object_fit": null,
      "object_position": null,
      "order": null,
      "overflow": null,
      "overflow_x": null,
      "overflow_y": null,
      "padding": null,
      "right": null,
      "top": null,
      "visibility": null,
      "width": null
     }
    },
    "294133e5c3b74bbbbf9498fed1800545": {
     "model_module": "@jupyter-widgets/controls",
     "model_name": "DescriptionStyleModel",
     "state": {
      "_model_module": "@jupyter-widgets/controls",
      "_model_module_version": "1.5.0",
      "_model_name": "DescriptionStyleModel",
      "_view_count": null,
      "_view_module": "@jupyter-widgets/base",
      "_view_module_version": "1.2.0",
      "_view_name": "StyleView",
      "description_width": ""
     }
    },
    "2c1fbbdd49f94f52b61ae7afb4b11534": {
     "model_module": "@jupyter-widgets/controls",
     "model_name": "HTMLModel",
     "state": {
      "_dom_classes": [],
      "_model_module": "@jupyter-widgets/controls",
      "_model_module_version": "1.5.0",
      "_model_name": "HTMLModel",
      "_view_count": null,
      "_view_module": "@jupyter-widgets/controls",
      "_view_module_version": "1.5.0",
      "_view_name": "HTMLView",
      "description": "",
      "description_tooltip": null,
      "layout": "IPY_MODEL_63a1cfb92c59497f98b5dba9efd98d16",
      "placeholder": "​",
      "style": "IPY_MODEL_fa47728fdb0e4420843f31721bcb35b9",
      "value": " 440M/440M [00:07&lt;00:00, 58.4MB/s]"
     }
    },
    "317bd766c80343dc8938165e12330cf7": {
     "model_module": "@jupyter-widgets/controls",
     "model_name": "ProgressStyleModel",
     "state": {
      "_model_module": "@jupyter-widgets/controls",
      "_model_module_version": "1.5.0",
      "_model_name": "ProgressStyleModel",
      "_view_count": null,
      "_view_module": "@jupyter-widgets/base",
      "_view_module_version": "1.2.0",
      "_view_name": "StyleView",
      "bar_color": null,
      "description_width": "initial"
     }
    },
    "450bad0438f94e639c46d545689834b8": {
     "model_module": "@jupyter-widgets/controls",
     "model_name": "FloatProgressModel",
     "state": {
      "_dom_classes": [],
      "_model_module": "@jupyter-widgets/controls",
      "_model_module_version": "1.5.0",
      "_model_name": "FloatProgressModel",
      "_view_count": null,
      "_view_module": "@jupyter-widgets/controls",
      "_view_module_version": "1.5.0",
      "_view_name": "ProgressView",
      "bar_style": "success",
      "description": "Downloading: 100%",
      "description_tooltip": null,
      "layout": "IPY_MODEL_47d49110fb46416bb0c91deadf71c6bb",
      "max": 28,
      "min": 0,
      "orientation": "horizontal",
      "style": "IPY_MODEL_317bd766c80343dc8938165e12330cf7",
      "value": 28
     }
    },
    "47d49110fb46416bb0c91deadf71c6bb": {
     "model_module": "@jupyter-widgets/base",
     "model_name": "LayoutModel",
     "state": {
      "_model_module": "@jupyter-widgets/base",
      "_model_module_version": "1.2.0",
      "_model_name": "LayoutModel",
      "_view_count": null,
      "_view_module": "@jupyter-widgets/base",
      "_view_module_version": "1.2.0",
      "_view_name": "LayoutView",
      "align_content": null,
      "align_items": null,
      "align_self": null,
      "border": null,
      "bottom": null,
      "display": null,
      "flex": null,
      "flex_flow": null,
      "grid_area": null,
      "grid_auto_columns": null,
      "grid_auto_flow": null,
      "grid_auto_rows": null,
      "grid_column": null,
      "grid_gap": null,
      "grid_row": null,
      "grid_template_areas": null,
      "grid_template_columns": null,
      "grid_template_rows": null,
      "height": null,
      "justify_content": null,
      "justify_items": null,
      "left": null,
      "margin": null,
      "max_height": null,
      "max_width": null,
      "min_height": null,
      "min_width": null,
      "object_fit": null,
      "object_position": null,
      "order": null,
      "overflow": null,
      "overflow_x": null,
      "overflow_y": null,
      "padding": null,
      "right": null,
      "top": null,
      "visibility": null,
      "width": null
     }
    },
    "5db4e4b77a8644398812d14acb95d93d": {
     "model_module": "@jupyter-widgets/base",
     "model_name": "LayoutModel",
     "state": {
      "_model_module": "@jupyter-widgets/base",
      "_model_module_version": "1.2.0",
      "_model_name": "LayoutModel",
      "_view_count": null,
      "_view_module": "@jupyter-widgets/base",
      "_view_module_version": "1.2.0",
      "_view_name": "LayoutView",
      "align_content": null,
      "align_items": null,
      "align_self": null,
      "border": null,
      "bottom": null,
      "display": null,
      "flex": null,
      "flex_flow": null,
      "grid_area": null,
      "grid_auto_columns": null,
      "grid_auto_flow": null,
      "grid_auto_rows": null,
      "grid_column": null,
      "grid_gap": null,
      "grid_row": null,
      "grid_template_areas": null,
      "grid_template_columns": null,
      "grid_template_rows": null,
      "height": null,
      "justify_content": null,
      "justify_items": null,
      "left": null,
      "margin": null,
      "max_height": null,
      "max_width": null,
      "min_height": null,
      "min_width": null,
      "object_fit": null,
      "object_position": null,
      "order": null,
      "overflow": null,
      "overflow_x": null,
      "overflow_y": null,
      "padding": null,
      "right": null,
      "top": null,
      "visibility": null,
      "width": null
     }
    },
    "63a1cfb92c59497f98b5dba9efd98d16": {
     "model_module": "@jupyter-widgets/base",
     "model_name": "LayoutModel",
     "state": {
      "_model_module": "@jupyter-widgets/base",
      "_model_module_version": "1.2.0",
      "_model_name": "LayoutModel",
      "_view_count": null,
      "_view_module": "@jupyter-widgets/base",
      "_view_module_version": "1.2.0",
      "_view_name": "LayoutView",
      "align_content": null,
      "align_items": null,
      "align_self": null,
      "border": null,
      "bottom": null,
      "display": null,
      "flex": null,
      "flex_flow": null,
      "grid_area": null,
      "grid_auto_columns": null,
      "grid_auto_flow": null,
      "grid_auto_rows": null,
      "grid_column": null,
      "grid_gap": null,
      "grid_row": null,
      "grid_template_areas": null,
      "grid_template_columns": null,
      "grid_template_rows": null,
      "height": null,
      "justify_content": null,
      "justify_items": null,
      "left": null,
      "margin": null,
      "max_height": null,
      "max_width": null,
      "min_height": null,
      "min_width": null,
      "object_fit": null,
      "object_position": null,
      "order": null,
      "overflow": null,
      "overflow_x": null,
      "overflow_y": null,
      "padding": null,
      "right": null,
      "top": null,
      "visibility": null,
      "width": null
     }
    },
    "6ac59b2e9fe04be29c0b720b6c156c91": {
     "model_module": "@jupyter-widgets/controls",
     "model_name": "FloatProgressModel",
     "state": {
      "_dom_classes": [],
      "_model_module": "@jupyter-widgets/controls",
      "_model_module_version": "1.5.0",
      "_model_name": "FloatProgressModel",
      "_view_count": null,
      "_view_module": "@jupyter-widgets/controls",
      "_view_module_version": "1.5.0",
      "_view_name": "ProgressView",
      "bar_style": "success",
      "description": "Downloading: 100%",
      "description_tooltip": null,
      "layout": "IPY_MODEL_7b5f52eafe0d4676969885a3a2bfe6f4",
      "max": 440473133,
      "min": 0,
      "orientation": "horizontal",
      "style": "IPY_MODEL_17c8cf29b5764ba392fb6a6fb4d98e30",
      "value": 440473133
     }
    },
    "6daab36f9b004282ba5b0ed39ffbeae8": {
     "model_module": "@jupyter-widgets/base",
     "model_name": "LayoutModel",
     "state": {
      "_model_module": "@jupyter-widgets/base",
      "_model_module_version": "1.2.0",
      "_model_name": "LayoutModel",
      "_view_count": null,
      "_view_module": "@jupyter-widgets/base",
      "_view_module_version": "1.2.0",
      "_view_name": "LayoutView",
      "align_content": null,
      "align_items": null,
      "align_self": null,
      "border": null,
      "bottom": null,
      "display": null,
      "flex": null,
      "flex_flow": null,
      "grid_area": null,
      "grid_auto_columns": null,
      "grid_auto_flow": null,
      "grid_auto_rows": null,
      "grid_column": null,
      "grid_gap": null,
      "grid_row": null,
      "grid_template_areas": null,
      "grid_template_columns": null,
      "grid_template_rows": null,
      "height": null,
      "justify_content": null,
      "justify_items": null,
      "left": null,
      "margin": null,
      "max_height": null,
      "max_width": null,
      "min_height": null,
      "min_width": null,
      "object_fit": null,
      "object_position": null,
      "order": null,
      "overflow": null,
      "overflow_x": null,
      "overflow_y": null,
      "padding": null,
      "right": null,
      "top": null,
      "visibility": null,
      "width": null
     }
    },
    "6dcf07ff63ee4f09ae9a8e7fbd699401": {
     "model_module": "@jupyter-widgets/base",
     "model_name": "LayoutModel",
     "state": {
      "_model_module": "@jupyter-widgets/base",
      "_model_module_version": "1.2.0",
      "_model_name": "LayoutModel",
      "_view_count": null,
      "_view_module": "@jupyter-widgets/base",
      "_view_module_version": "1.2.0",
      "_view_name": "LayoutView",
      "align_content": null,
      "align_items": null,
      "align_self": null,
      "border": null,
      "bottom": null,
      "display": null,
      "flex": null,
      "flex_flow": null,
      "grid_area": null,
      "grid_auto_columns": null,
      "grid_auto_flow": null,
      "grid_auto_rows": null,
      "grid_column": null,
      "grid_gap": null,
      "grid_row": null,
      "grid_template_areas": null,
      "grid_template_columns": null,
      "grid_template_rows": null,
      "height": null,
      "justify_content": null,
      "justify_items": null,
      "left": null,
      "margin": null,
      "max_height": null,
      "max_width": null,
      "min_height": null,
      "min_width": null,
      "object_fit": null,
      "object_position": null,
      "order": null,
      "overflow": null,
      "overflow_x": null,
      "overflow_y": null,
      "padding": null,
      "right": null,
      "top": null,
      "visibility": null,
      "width": null
     }
    },
    "78404f90cc4f4c359468edcc95784757": {
     "model_module": "@jupyter-widgets/controls",
     "model_name": "HBoxModel",
     "state": {
      "_dom_classes": [],
      "_model_module": "@jupyter-widgets/controls",
      "_model_module_version": "1.5.0",
      "_model_name": "HBoxModel",
      "_view_count": null,
      "_view_module": "@jupyter-widgets/controls",
      "_view_module_version": "1.5.0",
      "_view_name": "HBoxView",
      "box_style": "",
      "children": [
       "IPY_MODEL_99413ae074fb4bd09167261cbe3bafea",
       "IPY_MODEL_c67c05367c2043c7a2a7a89cb353b905"
      ],
      "layout": "IPY_MODEL_8de6700bfd36422685acc6ecc617e886"
     }
    },
    "78990bf909a64d5fb10f283b805290f2": {
     "model_module": "@jupyter-widgets/controls",
     "model_name": "HTMLModel",
     "state": {
      "_dom_classes": [],
      "_model_module": "@jupyter-widgets/controls",
      "_model_module_version": "1.5.0",
      "_model_name": "HTMLModel",
      "_view_count": null,
      "_view_module": "@jupyter-widgets/controls",
      "_view_module_version": "1.5.0",
      "_view_name": "HTMLView",
      "description": "",
      "description_tooltip": null,
      "layout": "IPY_MODEL_c2d400b3ebcc41fabec85f8378d3dcfa",
      "placeholder": "​",
      "style": "IPY_MODEL_294133e5c3b74bbbbf9498fed1800545",
      "value": " 232k/232k [00:00&lt;00:00, 435kB/s]"
     }
    },
    "7b010f933bef4e51a94cc9b1736f53fb": {
     "model_module": "@jupyter-widgets/controls",
     "model_name": "FloatProgressModel",
     "state": {
      "_dom_classes": [],
      "_model_module": "@jupyter-widgets/controls",
      "_model_module_version": "1.5.0",
      "_model_name": "FloatProgressModel",
      "_view_count": null,
      "_view_module": "@jupyter-widgets/controls",
      "_view_module_version": "1.5.0",
      "_view_name": "ProgressView",
      "bar_style": "success",
      "description": "Downloading: 100%",
      "description_tooltip": null,
      "layout": "IPY_MODEL_6daab36f9b004282ba5b0ed39ffbeae8",
      "max": 433,
      "min": 0,
      "orientation": "horizontal",
      "style": "IPY_MODEL_02d67eb22afc40d58b45b47fef802041",
      "value": 433
     }
    },
    "7b5f52eafe0d4676969885a3a2bfe6f4": {
     "model_module": "@jupyter-widgets/base",
     "model_name": "LayoutModel",
     "state": {
      "_model_module": "@jupyter-widgets/base",
      "_model_module_version": "1.2.0",
      "_model_name": "LayoutModel",
      "_view_count": null,
      "_view_module": "@jupyter-widgets/base",
      "_view_module_version": "1.2.0",
      "_view_name": "LayoutView",
      "align_content": null,
      "align_items": null,
      "align_self": null,
      "border": null,
      "bottom": null,
      "display": null,
      "flex": null,
      "flex_flow": null,
      "grid_area": null,
      "grid_auto_columns": null,
      "grid_auto_flow": null,
      "grid_auto_rows": null,
      "grid_column": null,
      "grid_gap": null,
      "grid_row": null,
      "grid_template_areas": null,
      "grid_template_columns": null,
      "grid_template_rows": null,
      "height": null,
      "justify_content": null,
      "justify_items": null,
      "left": null,
      "margin": null,
      "max_height": null,
      "max_width": null,
      "min_height": null,
      "min_width": null,
      "object_fit": null,
      "object_position": null,
      "order": null,
      "overflow": null,
      "overflow_x": null,
      "overflow_y": null,
      "padding": null,
      "right": null,
      "top": null,
      "visibility": null,
      "width": null
     }
    },
    "89e409b7f9f04faab5212439565c8038": {
     "model_module": "@jupyter-widgets/base",
     "model_name": "LayoutModel",
     "state": {
      "_model_module": "@jupyter-widgets/base",
      "_model_module_version": "1.2.0",
      "_model_name": "LayoutModel",
      "_view_count": null,
      "_view_module": "@jupyter-widgets/base",
      "_view_module_version": "1.2.0",
      "_view_name": "LayoutView",
      "align_content": null,
      "align_items": null,
      "align_self": null,
      "border": null,
      "bottom": null,
      "display": null,
      "flex": null,
      "flex_flow": null,
      "grid_area": null,
      "grid_auto_columns": null,
      "grid_auto_flow": null,
      "grid_auto_rows": null,
      "grid_column": null,
      "grid_gap": null,
      "grid_row": null,
      "grid_template_areas": null,
      "grid_template_columns": null,
      "grid_template_rows": null,
      "height": null,
      "justify_content": null,
      "justify_items": null,
      "left": null,
      "margin": null,
      "max_height": null,
      "max_width": null,
      "min_height": null,
      "min_width": null,
      "object_fit": null,
      "object_position": null,
      "order": null,
      "overflow": null,
      "overflow_x": null,
      "overflow_y": null,
      "padding": null,
      "right": null,
      "top": null,
      "visibility": null,
      "width": null
     }
    },
    "8de6700bfd36422685acc6ecc617e886": {
     "model_module": "@jupyter-widgets/base",
     "model_name": "LayoutModel",
     "state": {
      "_model_module": "@jupyter-widgets/base",
      "_model_module_version": "1.2.0",
      "_model_name": "LayoutModel",
      "_view_count": null,
      "_view_module": "@jupyter-widgets/base",
      "_view_module_version": "1.2.0",
      "_view_name": "LayoutView",
      "align_content": null,
      "align_items": null,
      "align_self": null,
      "border": null,
      "bottom": null,
      "display": null,
      "flex": null,
      "flex_flow": null,
      "grid_area": null,
      "grid_auto_columns": null,
      "grid_auto_flow": null,
      "grid_auto_rows": null,
      "grid_column": null,
      "grid_gap": null,
      "grid_row": null,
      "grid_template_areas": null,
      "grid_template_columns": null,
      "grid_template_rows": null,
      "height": null,
      "justify_content": null,
      "justify_items": null,
      "left": null,
      "margin": null,
      "max_height": null,
      "max_width": null,
      "min_height": null,
      "min_width": null,
      "object_fit": null,
      "object_position": null,
      "order": null,
      "overflow": null,
      "overflow_x": null,
      "overflow_y": null,
      "padding": null,
      "right": null,
      "top": null,
      "visibility": null,
      "width": null
     }
    },
    "8f10765912be4d2a8477e034c05aae1e": {
     "model_module": "@jupyter-widgets/controls",
     "model_name": "HTMLModel",
     "state": {
      "_dom_classes": [],
      "_model_module": "@jupyter-widgets/controls",
      "_model_module_version": "1.5.0",
      "_model_name": "HTMLModel",
      "_view_count": null,
      "_view_module": "@jupyter-widgets/controls",
      "_view_module_version": "1.5.0",
      "_view_name": "HTMLView",
      "description": "",
      "description_tooltip": null,
      "layout": "IPY_MODEL_2299cbc90b7048f0ba91897586a37135",
      "placeholder": "​",
      "style": "IPY_MODEL_a90bff81bfa24b66bb24f4612eacdd07",
      "value": " 28.0/28.0 [00:00&lt;00:00, 65.0B/s]"
     }
    },
    "99413ae074fb4bd09167261cbe3bafea": {
     "model_module": "@jupyter-widgets/controls",
     "model_name": "FloatProgressModel",
     "state": {
      "_dom_classes": [],
      "_model_module": "@jupyter-widgets/controls",
      "_model_module_version": "1.5.0",
      "_model_name": "FloatProgressModel",
      "_view_count": null,
      "_view_module": "@jupyter-widgets/controls",
      "_view_module_version": "1.5.0",
      "_view_name": "ProgressView",
      "bar_style": "success",
      "description": "Downloading: 100%",
      "description_tooltip": null,
      "layout": "IPY_MODEL_a42627f69437427aa788ccd5861f2a35",
      "max": 466062,
      "min": 0,
      "orientation": "horizontal",
      "style": "IPY_MODEL_d1254360098644d29badd2ca099c4edc",
      "value": 466062
     }
    },
    "a1e5aaf6455b4f2e8dd916c7165a605f": {
     "model_module": "@jupyter-widgets/controls",
     "model_name": "FloatProgressModel",
     "state": {
      "_dom_classes": [],
      "_model_module": "@jupyter-widgets/controls",
      "_model_module_version": "1.5.0",
      "_model_name": "FloatProgressModel",
      "_view_count": null,
      "_view_module": "@jupyter-widgets/controls",
      "_view_module_version": "1.5.0",
      "_view_name": "ProgressView",
      "bar_style": "success",
      "description": "Downloading: 100%",
      "description_tooltip": null,
      "layout": "IPY_MODEL_89e409b7f9f04faab5212439565c8038",
      "max": 231508,
      "min": 0,
      "orientation": "horizontal",
      "style": "IPY_MODEL_e0d563e263f344daaf17aa18ba08c1c0",
      "value": 231508
     }
    },
    "a42627f69437427aa788ccd5861f2a35": {
     "model_module": "@jupyter-widgets/base",
     "model_name": "LayoutModel",
     "state": {
      "_model_module": "@jupyter-widgets/base",
      "_model_module_version": "1.2.0",
      "_model_name": "LayoutModel",
      "_view_count": null,
      "_view_module": "@jupyter-widgets/base",
      "_view_module_version": "1.2.0",
      "_view_name": "LayoutView",
      "align_content": null,
      "align_items": null,
      "align_self": null,
      "border": null,
      "bottom": null,
      "display": null,
      "flex": null,
      "flex_flow": null,
      "grid_area": null,
      "grid_auto_columns": null,
      "grid_auto_flow": null,
      "grid_auto_rows": null,
      "grid_column": null,
      "grid_gap": null,
      "grid_row": null,
      "grid_template_areas": null,
      "grid_template_columns": null,
      "grid_template_rows": null,
      "height": null,
      "justify_content": null,
      "justify_items": null,
      "left": null,
      "margin": null,
      "max_height": null,
      "max_width": null,
      "min_height": null,
      "min_width": null,
      "object_fit": null,
      "object_position": null,
      "order": null,
      "overflow": null,
      "overflow_x": null,
      "overflow_y": null,
      "padding": null,
      "right": null,
      "top": null,
      "visibility": null,
      "width": null
     }
    },
    "a90bff81bfa24b66bb24f4612eacdd07": {
     "model_module": "@jupyter-widgets/controls",
     "model_name": "DescriptionStyleModel",
     "state": {
      "_model_module": "@jupyter-widgets/controls",
      "_model_module_version": "1.5.0",
      "_model_name": "DescriptionStyleModel",
      "_view_count": null,
      "_view_module": "@jupyter-widgets/base",
      "_view_module_version": "1.2.0",
      "_view_name": "StyleView",
      "description_width": ""
     }
    },
    "ad7ba85599594e1f9323d7ddf783a1eb": {
     "model_module": "@jupyter-widgets/controls",
     "model_name": "HBoxModel",
     "state": {
      "_dom_classes": [],
      "_model_module": "@jupyter-widgets/controls",
      "_model_module_version": "1.5.0",
      "_model_name": "HBoxModel",
      "_view_count": null,
      "_view_module": "@jupyter-widgets/controls",
      "_view_module_version": "1.5.0",
      "_view_name": "HBoxView",
      "box_style": "",
      "children": [
       "IPY_MODEL_450bad0438f94e639c46d545689834b8",
       "IPY_MODEL_8f10765912be4d2a8477e034c05aae1e"
      ],
      "layout": "IPY_MODEL_dfdc74c2688c460c8ac0081c946cd1a5"
     }
    },
    "b94a272fe11f4a3797c3ffc50e34ee2b": {
     "model_module": "@jupyter-widgets/controls",
     "model_name": "DescriptionStyleModel",
     "state": {
      "_model_module": "@jupyter-widgets/controls",
      "_model_module_version": "1.5.0",
      "_model_name": "DescriptionStyleModel",
      "_view_count": null,
      "_view_module": "@jupyter-widgets/base",
      "_view_module_version": "1.2.0",
      "_view_name": "StyleView",
      "description_width": ""
     }
    },
    "b9e18880d9e5468cb70dd4987f21be46": {
     "model_module": "@jupyter-widgets/base",
     "model_name": "LayoutModel",
     "state": {
      "_model_module": "@jupyter-widgets/base",
      "_model_module_version": "1.2.0",
      "_model_name": "LayoutModel",
      "_view_count": null,
      "_view_module": "@jupyter-widgets/base",
      "_view_module_version": "1.2.0",
      "_view_name": "LayoutView",
      "align_content": null,
      "align_items": null,
      "align_self": null,
      "border": null,
      "bottom": null,
      "display": null,
      "flex": null,
      "flex_flow": null,
      "grid_area": null,
      "grid_auto_columns": null,
      "grid_auto_flow": null,
      "grid_auto_rows": null,
      "grid_column": null,
      "grid_gap": null,
      "grid_row": null,
      "grid_template_areas": null,
      "grid_template_columns": null,
      "grid_template_rows": null,
      "height": null,
      "justify_content": null,
      "justify_items": null,
      "left": null,
      "margin": null,
      "max_height": null,
      "max_width": null,
      "min_height": null,
      "min_width": null,
      "object_fit": null,
      "object_position": null,
      "order": null,
      "overflow": null,
      "overflow_x": null,
      "overflow_y": null,
      "padding": null,
      "right": null,
      "top": null,
      "visibility": null,
      "width": null
     }
    },
    "bb1426767484493894eb585235e4fcf9": {
     "model_module": "@jupyter-widgets/controls",
     "model_name": "HBoxModel",
     "state": {
      "_dom_classes": [],
      "_model_module": "@jupyter-widgets/controls",
      "_model_module_version": "1.5.0",
      "_model_name": "HBoxModel",
      "_view_count": null,
      "_view_module": "@jupyter-widgets/controls",
      "_view_module_version": "1.5.0",
      "_view_name": "HBoxView",
      "box_style": "",
      "children": [
       "IPY_MODEL_7b010f933bef4e51a94cc9b1736f53fb",
       "IPY_MODEL_f7ad0f0dea434363827ef38ffcf8dab9"
      ],
      "layout": "IPY_MODEL_5db4e4b77a8644398812d14acb95d93d"
     }
    },
    "c2d400b3ebcc41fabec85f8378d3dcfa": {
     "model_module": "@jupyter-widgets/base",
     "model_name": "LayoutModel",
     "state": {
      "_model_module": "@jupyter-widgets/base",
      "_model_module_version": "1.2.0",
      "_model_name": "LayoutModel",
      "_view_count": null,
      "_view_module": "@jupyter-widgets/base",
      "_view_module_version": "1.2.0",
      "_view_name": "LayoutView",
      "align_content": null,
      "align_items": null,
      "align_self": null,
      "border": null,
      "bottom": null,
      "display": null,
      "flex": null,
      "flex_flow": null,
      "grid_area": null,
      "grid_auto_columns": null,
      "grid_auto_flow": null,
      "grid_auto_rows": null,
      "grid_column": null,
      "grid_gap": null,
      "grid_row": null,
      "grid_template_areas": null,
      "grid_template_columns": null,
      "grid_template_rows": null,
      "height": null,
      "justify_content": null,
      "justify_items": null,
      "left": null,
      "margin": null,
      "max_height": null,
      "max_width": null,
      "min_height": null,
      "min_width": null,
      "object_fit": null,
      "object_position": null,
      "order": null,
      "overflow": null,
      "overflow_x": null,
      "overflow_y": null,
      "padding": null,
      "right": null,
      "top": null,
      "visibility": null,
      "width": null
     }
    },
    "c67c05367c2043c7a2a7a89cb353b905": {
     "model_module": "@jupyter-widgets/controls",
     "model_name": "HTMLModel",
     "state": {
      "_dom_classes": [],
      "_model_module": "@jupyter-widgets/controls",
      "_model_module_version": "1.5.0",
      "_model_name": "HTMLModel",
      "_view_count": null,
      "_view_module": "@jupyter-widgets/controls",
      "_view_module_version": "1.5.0",
      "_view_name": "HTMLView",
      "description": "",
      "description_tooltip": null,
      "layout": "IPY_MODEL_6dcf07ff63ee4f09ae9a8e7fbd699401",
      "placeholder": "​",
      "style": "IPY_MODEL_cdb3aaa2654a443286e8ae1f1f92d1a4",
      "value": " 466k/466k [00:00&lt;00:00, 2.68MB/s]"
     }
    },
    "cdb3aaa2654a443286e8ae1f1f92d1a4": {
     "model_module": "@jupyter-widgets/controls",
     "model_name": "DescriptionStyleModel",
     "state": {
      "_model_module": "@jupyter-widgets/controls",
      "_model_module_version": "1.5.0",
      "_model_name": "DescriptionStyleModel",
      "_view_count": null,
      "_view_module": "@jupyter-widgets/base",
      "_view_module_version": "1.2.0",
      "_view_name": "StyleView",
      "description_width": ""
     }
    },
    "d1254360098644d29badd2ca099c4edc": {
     "model_module": "@jupyter-widgets/controls",
     "model_name": "ProgressStyleModel",
     "state": {
      "_model_module": "@jupyter-widgets/controls",
      "_model_module_version": "1.5.0",
      "_model_name": "ProgressStyleModel",
      "_view_count": null,
      "_view_module": "@jupyter-widgets/base",
      "_view_module_version": "1.2.0",
      "_view_name": "StyleView",
      "bar_color": null,
      "description_width": "initial"
     }
    },
    "dfdc74c2688c460c8ac0081c946cd1a5": {
     "model_module": "@jupyter-widgets/base",
     "model_name": "LayoutModel",
     "state": {
      "_model_module": "@jupyter-widgets/base",
      "_model_module_version": "1.2.0",
      "_model_name": "LayoutModel",
      "_view_count": null,
      "_view_module": "@jupyter-widgets/base",
      "_view_module_version": "1.2.0",
      "_view_name": "LayoutView",
      "align_content": null,
      "align_items": null,
      "align_self": null,
      "border": null,
      "bottom": null,
      "display": null,
      "flex": null,
      "flex_flow": null,
      "grid_area": null,
      "grid_auto_columns": null,
      "grid_auto_flow": null,
      "grid_auto_rows": null,
      "grid_column": null,
      "grid_gap": null,
      "grid_row": null,
      "grid_template_areas": null,
      "grid_template_columns": null,
      "grid_template_rows": null,
      "height": null,
      "justify_content": null,
      "justify_items": null,
      "left": null,
      "margin": null,
      "max_height": null,
      "max_width": null,
      "min_height": null,
      "min_width": null,
      "object_fit": null,
      "object_position": null,
      "order": null,
      "overflow": null,
      "overflow_x": null,
      "overflow_y": null,
      "padding": null,
      "right": null,
      "top": null,
      "visibility": null,
      "width": null
     }
    },
    "e0d563e263f344daaf17aa18ba08c1c0": {
     "model_module": "@jupyter-widgets/controls",
     "model_name": "ProgressStyleModel",
     "state": {
      "_model_module": "@jupyter-widgets/controls",
      "_model_module_version": "1.5.0",
      "_model_name": "ProgressStyleModel",
      "_view_count": null,
      "_view_module": "@jupyter-widgets/base",
      "_view_module_version": "1.2.0",
      "_view_name": "StyleView",
      "bar_color": null,
      "description_width": "initial"
     }
    },
    "e1663ae22e9e4a20ae0d5f75ba8e3471": {
     "model_module": "@jupyter-widgets/base",
     "model_name": "LayoutModel",
     "state": {
      "_model_module": "@jupyter-widgets/base",
      "_model_module_version": "1.2.0",
      "_model_name": "LayoutModel",
      "_view_count": null,
      "_view_module": "@jupyter-widgets/base",
      "_view_module_version": "1.2.0",
      "_view_name": "LayoutView",
      "align_content": null,
      "align_items": null,
      "align_self": null,
      "border": null,
      "bottom": null,
      "display": null,
      "flex": null,
      "flex_flow": null,
      "grid_area": null,
      "grid_auto_columns": null,
      "grid_auto_flow": null,
      "grid_auto_rows": null,
      "grid_column": null,
      "grid_gap": null,
      "grid_row": null,
      "grid_template_areas": null,
      "grid_template_columns": null,
      "grid_template_rows": null,
      "height": null,
      "justify_content": null,
      "justify_items": null,
      "left": null,
      "margin": null,
      "max_height": null,
      "max_width": null,
      "min_height": null,
      "min_width": null,
      "object_fit": null,
      "object_position": null,
      "order": null,
      "overflow": null,
      "overflow_x": null,
      "overflow_y": null,
      "padding": null,
      "right": null,
      "top": null,
      "visibility": null,
      "width": null
     }
    },
    "e49f2331b9d2402bbf80bc8deee8fada": {
     "model_module": "@jupyter-widgets/controls",
     "model_name": "HBoxModel",
     "state": {
      "_dom_classes": [],
      "_model_module": "@jupyter-widgets/controls",
      "_model_module_version": "1.5.0",
      "_model_name": "HBoxModel",
      "_view_count": null,
      "_view_module": "@jupyter-widgets/controls",
      "_view_module_version": "1.5.0",
      "_view_name": "HBoxView",
      "box_style": "",
      "children": [
       "IPY_MODEL_a1e5aaf6455b4f2e8dd916c7165a605f",
       "IPY_MODEL_78990bf909a64d5fb10f283b805290f2"
      ],
      "layout": "IPY_MODEL_1bfe5b4ea723488f8bf84a69093067b6"
     }
    },
    "e857bcb3f718495aac881f92c29006d7": {
     "model_module": "@jupyter-widgets/controls",
     "model_name": "HBoxModel",
     "state": {
      "_dom_classes": [],
      "_model_module": "@jupyter-widgets/controls",
      "_model_module_version": "1.5.0",
      "_model_name": "HBoxModel",
      "_view_count": null,
      "_view_module": "@jupyter-widgets/controls",
      "_view_module_version": "1.5.0",
      "_view_name": "HBoxView",
      "box_style": "",
      "children": [
       "IPY_MODEL_6ac59b2e9fe04be29c0b720b6c156c91",
       "IPY_MODEL_2c1fbbdd49f94f52b61ae7afb4b11534"
      ],
      "layout": "IPY_MODEL_e1663ae22e9e4a20ae0d5f75ba8e3471"
     }
    },
    "f7ad0f0dea434363827ef38ffcf8dab9": {
     "model_module": "@jupyter-widgets/controls",
     "model_name": "HTMLModel",
     "state": {
      "_dom_classes": [],
      "_model_module": "@jupyter-widgets/controls",
      "_model_module_version": "1.5.0",
      "_model_name": "HTMLModel",
      "_view_count": null,
      "_view_module": "@jupyter-widgets/controls",
      "_view_module_version": "1.5.0",
      "_view_name": "HTMLView",
      "description": "",
      "description_tooltip": null,
      "layout": "IPY_MODEL_b9e18880d9e5468cb70dd4987f21be46",
      "placeholder": "​",
      "style": "IPY_MODEL_b94a272fe11f4a3797c3ffc50e34ee2b",
      "value": " 433/433 [00:53&lt;00:00, 8.11B/s]"
     }
    },
    "fa47728fdb0e4420843f31721bcb35b9": {
     "model_module": "@jupyter-widgets/controls",
     "model_name": "DescriptionStyleModel",
     "state": {
      "_model_module": "@jupyter-widgets/controls",
      "_model_module_version": "1.5.0",
      "_model_name": "DescriptionStyleModel",
      "_view_count": null,
      "_view_module": "@jupyter-widgets/base",
      "_view_module_version": "1.2.0",
      "_view_name": "StyleView",
      "description_width": ""
     }
    }
   }
  }
 },
 "nbformat": 4,
 "nbformat_minor": 1
}
